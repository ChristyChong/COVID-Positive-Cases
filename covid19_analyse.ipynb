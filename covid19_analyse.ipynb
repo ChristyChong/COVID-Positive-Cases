{
  "nbformat": 4,
  "nbformat_minor": 0,
  "metadata": {
    "colab": {
      "name": "Untitled0.ipynb",
      "provenance": [],
      "collapsed_sections": []
    },
    "kernelspec": {
      "name": "python3",
      "display_name": "Python 3"
    },
    "language_info": {
      "name": "python"
    }
  },
  "cells": [
    {
      "cell_type": "code",
      "metadata": {
        "id": "pWHyOv7LDXYP"
      },
      "source": [
        "import pandas as pd\n",
        "import numpy as np\n",
        "import matplotlib.pyplot as plt\n",
        "import os"
      ],
      "execution_count": null,
      "outputs": []
    },
    {
      "cell_type": "code",
      "source": [
        "os.listdir(\".\")"
      ],
      "metadata": {
        "colab": {
          "base_uri": "https://localhost:8080/"
        },
        "id": "N844-R_uAGKp",
        "outputId": "cc743fc1-6a21-47e6-f6a4-e72ff4738211"
      },
      "execution_count": null,
      "outputs": [
        {
          "output_type": "execute_result",
          "data": {
            "text/plain": [
              "['.config', 'COVID-19 Activity.csv', 'sample_data']"
            ]
          },
          "metadata": {},
          "execution_count": 16
        }
      ]
    },
    {
      "cell_type": "code",
      "source": [
        "df = pd.read_csv(\"COVID-19 Activity.csv\")\n",
        "df.REPORT_DATE = pd.to_datetime(df.REPORT_DATE)\n",
        "df.dropna(inplace=True)\n",
        "df"
      ],
      "metadata": {
        "colab": {
          "base_uri": "https://localhost:8080/",
          "height": 483
        },
        "id": "90aX6EENAY5y",
        "outputId": "4b949ab0-2fb7-4b85-cb6e-334bcfbef0d3"
      },
      "execution_count": null,
      "outputs": [
        {
          "output_type": "execute_result",
          "data": {
            "text/html": [
              "\n",
              "  <div id=\"df-d9362bdf-ebdb-4133-87e9-b5f115aa912f\">\n",
              "    <div class=\"colab-df-container\">\n",
              "      <div>\n",
              "<style scoped>\n",
              "    .dataframe tbody tr th:only-of-type {\n",
              "        vertical-align: middle;\n",
              "    }\n",
              "\n",
              "    .dataframe tbody tr th {\n",
              "        vertical-align: top;\n",
              "    }\n",
              "\n",
              "    .dataframe thead th {\n",
              "        text-align: right;\n",
              "    }\n",
              "</style>\n",
              "<table border=\"1\" class=\"dataframe\">\n",
              "  <thead>\n",
              "    <tr style=\"text-align: right;\">\n",
              "      <th></th>\n",
              "      <th>PEOPLE_POSITIVE_CASES_COUNT</th>\n",
              "      <th>COUNTY_NAME</th>\n",
              "      <th>PROVINCE_STATE_NAME</th>\n",
              "      <th>REPORT_DATE</th>\n",
              "      <th>CONTINENT_NAME</th>\n",
              "      <th>DATA_SOURCE_NAME</th>\n",
              "      <th>PEOPLE_DEATH_NEW_COUNT</th>\n",
              "      <th>COUNTY_FIPS_NUMBER</th>\n",
              "      <th>COUNTRY_ALPHA_3_CODE</th>\n",
              "      <th>COUNTRY_SHORT_NAME</th>\n",
              "      <th>COUNTRY_ALPHA_2_CODE</th>\n",
              "      <th>PEOPLE_POSITIVE_NEW_CASES_COUNT</th>\n",
              "      <th>PEOPLE_DEATH_COUNT</th>\n",
              "    </tr>\n",
              "  </thead>\n",
              "  <tbody>\n",
              "    <tr>\n",
              "      <th>0</th>\n",
              "      <td>0</td>\n",
              "      <td>Pickens</td>\n",
              "      <td>Alabama</td>\n",
              "      <td>2020-01-22</td>\n",
              "      <td>America</td>\n",
              "      <td>New York Times</td>\n",
              "      <td>0</td>\n",
              "      <td>1107</td>\n",
              "      <td>USA</td>\n",
              "      <td>United States</td>\n",
              "      <td>US</td>\n",
              "      <td>0.0</td>\n",
              "      <td>0.0</td>\n",
              "    </tr>\n",
              "    <tr>\n",
              "      <th>1</th>\n",
              "      <td>0</td>\n",
              "      <td>Pickens</td>\n",
              "      <td>Alabama</td>\n",
              "      <td>2020-01-23</td>\n",
              "      <td>America</td>\n",
              "      <td>New York Times</td>\n",
              "      <td>0</td>\n",
              "      <td>1107</td>\n",
              "      <td>USA</td>\n",
              "      <td>United States</td>\n",
              "      <td>US</td>\n",
              "      <td>0.0</td>\n",
              "      <td>0.0</td>\n",
              "    </tr>\n",
              "    <tr>\n",
              "      <th>2</th>\n",
              "      <td>0</td>\n",
              "      <td>Pickens</td>\n",
              "      <td>Alabama</td>\n",
              "      <td>2020-01-24</td>\n",
              "      <td>America</td>\n",
              "      <td>New York Times</td>\n",
              "      <td>0</td>\n",
              "      <td>1107</td>\n",
              "      <td>USA</td>\n",
              "      <td>United States</td>\n",
              "      <td>US</td>\n",
              "      <td>0.0</td>\n",
              "      <td>0.0</td>\n",
              "    </tr>\n",
              "    <tr>\n",
              "      <th>3</th>\n",
              "      <td>0</td>\n",
              "      <td>Pickens</td>\n",
              "      <td>Alabama</td>\n",
              "      <td>2020-01-25</td>\n",
              "      <td>America</td>\n",
              "      <td>New York Times</td>\n",
              "      <td>0</td>\n",
              "      <td>1107</td>\n",
              "      <td>USA</td>\n",
              "      <td>United States</td>\n",
              "      <td>US</td>\n",
              "      <td>0.0</td>\n",
              "      <td>0.0</td>\n",
              "    </tr>\n",
              "    <tr>\n",
              "      <th>4</th>\n",
              "      <td>0</td>\n",
              "      <td>Pickens</td>\n",
              "      <td>Alabama</td>\n",
              "      <td>2020-01-26</td>\n",
              "      <td>America</td>\n",
              "      <td>New York Times</td>\n",
              "      <td>0</td>\n",
              "      <td>1107</td>\n",
              "      <td>USA</td>\n",
              "      <td>United States</td>\n",
              "      <td>US</td>\n",
              "      <td>0.0</td>\n",
              "      <td>0.0</td>\n",
              "    </tr>\n",
              "    <tr>\n",
              "      <th>...</th>\n",
              "      <td>...</td>\n",
              "      <td>...</td>\n",
              "      <td>...</td>\n",
              "      <td>...</td>\n",
              "      <td>...</td>\n",
              "      <td>...</td>\n",
              "      <td>...</td>\n",
              "      <td>...</td>\n",
              "      <td>...</td>\n",
              "      <td>...</td>\n",
              "      <td>...</td>\n",
              "      <td>...</td>\n",
              "      <td>...</td>\n",
              "    </tr>\n",
              "    <tr>\n",
              "      <th>34532</th>\n",
              "      <td>3311</td>\n",
              "      <td>Hernando</td>\n",
              "      <td>Florida</td>\n",
              "      <td>2020-10-10</td>\n",
              "      <td>America</td>\n",
              "      <td>New York Times</td>\n",
              "      <td>0</td>\n",
              "      <td>12053</td>\n",
              "      <td>USA</td>\n",
              "      <td>United States</td>\n",
              "      <td>US</td>\n",
              "      <td>0.0</td>\n",
              "      <td>146.0</td>\n",
              "    </tr>\n",
              "    <tr>\n",
              "      <th>34533</th>\n",
              "      <td>3348</td>\n",
              "      <td>Hernando</td>\n",
              "      <td>Florida</td>\n",
              "      <td>2020-10-11</td>\n",
              "      <td>America</td>\n",
              "      <td>New York Times</td>\n",
              "      <td>2</td>\n",
              "      <td>12053</td>\n",
              "      <td>USA</td>\n",
              "      <td>United States</td>\n",
              "      <td>US</td>\n",
              "      <td>37.0</td>\n",
              "      <td>148.0</td>\n",
              "    </tr>\n",
              "    <tr>\n",
              "      <th>34534</th>\n",
              "      <td>3362</td>\n",
              "      <td>Hernando</td>\n",
              "      <td>Florida</td>\n",
              "      <td>2020-10-12</td>\n",
              "      <td>America</td>\n",
              "      <td>New York Times</td>\n",
              "      <td>0</td>\n",
              "      <td>12053</td>\n",
              "      <td>USA</td>\n",
              "      <td>United States</td>\n",
              "      <td>US</td>\n",
              "      <td>14.0</td>\n",
              "      <td>148.0</td>\n",
              "    </tr>\n",
              "    <tr>\n",
              "      <th>34535</th>\n",
              "      <td>3352</td>\n",
              "      <td>Hernando</td>\n",
              "      <td>Florida</td>\n",
              "      <td>2020-10-13</td>\n",
              "      <td>America</td>\n",
              "      <td>New York Times</td>\n",
              "      <td>1</td>\n",
              "      <td>12053</td>\n",
              "      <td>USA</td>\n",
              "      <td>United States</td>\n",
              "      <td>US</td>\n",
              "      <td>-10.0</td>\n",
              "      <td>149.0</td>\n",
              "    </tr>\n",
              "    <tr>\n",
              "      <th>34536</th>\n",
              "      <td>3324</td>\n",
              "      <td>Hernando</td>\n",
              "      <td>Florida</td>\n",
              "      <td>2020-10-14</td>\n",
              "      <td>America</td>\n",
              "      <td>New York Times</td>\n",
              "      <td>0</td>\n",
              "      <td>12053</td>\n",
              "      <td>USA</td>\n",
              "      <td>United States</td>\n",
              "      <td>US</td>\n",
              "      <td>-28.0</td>\n",
              "      <td>149.0</td>\n",
              "    </tr>\n",
              "  </tbody>\n",
              "</table>\n",
              "<p>34537 rows × 13 columns</p>\n",
              "</div>\n",
              "      <button class=\"colab-df-convert\" onclick=\"convertToInteractive('df-d9362bdf-ebdb-4133-87e9-b5f115aa912f')\"\n",
              "              title=\"Convert this dataframe to an interactive table.\"\n",
              "              style=\"display:none;\">\n",
              "        \n",
              "  <svg xmlns=\"http://www.w3.org/2000/svg\" height=\"24px\"viewBox=\"0 0 24 24\"\n",
              "       width=\"24px\">\n",
              "    <path d=\"M0 0h24v24H0V0z\" fill=\"none\"/>\n",
              "    <path d=\"M18.56 5.44l.94 2.06.94-2.06 2.06-.94-2.06-.94-.94-2.06-.94 2.06-2.06.94zm-11 1L8.5 8.5l.94-2.06 2.06-.94-2.06-.94L8.5 2.5l-.94 2.06-2.06.94zm10 10l.94 2.06.94-2.06 2.06-.94-2.06-.94-.94-2.06-.94 2.06-2.06.94z\"/><path d=\"M17.41 7.96l-1.37-1.37c-.4-.4-.92-.59-1.43-.59-.52 0-1.04.2-1.43.59L10.3 9.45l-7.72 7.72c-.78.78-.78 2.05 0 2.83L4 21.41c.39.39.9.59 1.41.59.51 0 1.02-.2 1.41-.59l7.78-7.78 2.81-2.81c.8-.78.8-2.07 0-2.86zM5.41 20L4 18.59l7.72-7.72 1.47 1.35L5.41 20z\"/>\n",
              "  </svg>\n",
              "      </button>\n",
              "      \n",
              "  <style>\n",
              "    .colab-df-container {\n",
              "      display:flex;\n",
              "      flex-wrap:wrap;\n",
              "      gap: 12px;\n",
              "    }\n",
              "\n",
              "    .colab-df-convert {\n",
              "      background-color: #E8F0FE;\n",
              "      border: none;\n",
              "      border-radius: 50%;\n",
              "      cursor: pointer;\n",
              "      display: none;\n",
              "      fill: #1967D2;\n",
              "      height: 32px;\n",
              "      padding: 0 0 0 0;\n",
              "      width: 32px;\n",
              "    }\n",
              "\n",
              "    .colab-df-convert:hover {\n",
              "      background-color: #E2EBFA;\n",
              "      box-shadow: 0px 1px 2px rgba(60, 64, 67, 0.3), 0px 1px 3px 1px rgba(60, 64, 67, 0.15);\n",
              "      fill: #174EA6;\n",
              "    }\n",
              "\n",
              "    [theme=dark] .colab-df-convert {\n",
              "      background-color: #3B4455;\n",
              "      fill: #D2E3FC;\n",
              "    }\n",
              "\n",
              "    [theme=dark] .colab-df-convert:hover {\n",
              "      background-color: #434B5C;\n",
              "      box-shadow: 0px 1px 3px 1px rgba(0, 0, 0, 0.15);\n",
              "      filter: drop-shadow(0px 1px 2px rgba(0, 0, 0, 0.3));\n",
              "      fill: #FFFFFF;\n",
              "    }\n",
              "  </style>\n",
              "\n",
              "      <script>\n",
              "        const buttonEl =\n",
              "          document.querySelector('#df-d9362bdf-ebdb-4133-87e9-b5f115aa912f button.colab-df-convert');\n",
              "        buttonEl.style.display =\n",
              "          google.colab.kernel.accessAllowed ? 'block' : 'none';\n",
              "\n",
              "        async function convertToInteractive(key) {\n",
              "          const element = document.querySelector('#df-d9362bdf-ebdb-4133-87e9-b5f115aa912f');\n",
              "          const dataTable =\n",
              "            await google.colab.kernel.invokeFunction('convertToInteractive',\n",
              "                                                     [key], {});\n",
              "          if (!dataTable) return;\n",
              "\n",
              "          const docLinkHtml = 'Like what you see? Visit the ' +\n",
              "            '<a target=\"_blank\" href=https://colab.research.google.com/notebooks/data_table.ipynb>data table notebook</a>'\n",
              "            + ' to learn more about interactive tables.';\n",
              "          element.innerHTML = '';\n",
              "          dataTable['output_type'] = 'display_data';\n",
              "          await google.colab.output.renderOutput(dataTable, element);\n",
              "          const docLink = document.createElement('div');\n",
              "          docLink.innerHTML = docLinkHtml;\n",
              "          element.appendChild(docLink);\n",
              "        }\n",
              "      </script>\n",
              "    </div>\n",
              "  </div>\n",
              "  "
            ],
            "text/plain": [
              "       PEOPLE_POSITIVE_CASES_COUNT  ... PEOPLE_DEATH_COUNT\n",
              "0                                0  ...                0.0\n",
              "1                                0  ...                0.0\n",
              "2                                0  ...                0.0\n",
              "3                                0  ...                0.0\n",
              "4                                0  ...                0.0\n",
              "...                            ...  ...                ...\n",
              "34532                         3311  ...              146.0\n",
              "34533                         3348  ...              148.0\n",
              "34534                         3362  ...              148.0\n",
              "34535                         3352  ...              149.0\n",
              "34536                         3324  ...              149.0\n",
              "\n",
              "[34537 rows x 13 columns]"
            ]
          },
          "metadata": {},
          "execution_count": 17
        }
      ]
    },
    {
      "cell_type": "code",
      "source": [
        "df.describe()\n",
        "df.to_csv(\"table.csv\")"
      ],
      "metadata": {
        "id": "o2CjVsrCLfcO"
      },
      "execution_count": null,
      "outputs": []
    },
    {
      "cell_type": "code",
      "source": [
        "date_range = pd.to_datetime(df.REPORT_DATE.unique()).sort_values()\n",
        "date_range"
      ],
      "metadata": {
        "colab": {
          "base_uri": "https://localhost:8080/"
        },
        "id": "TgyUqyPLB0kJ",
        "outputId": "9a38e0e6-5102-40e7-a8e1-cce79a057672"
      },
      "execution_count": null,
      "outputs": [
        {
          "output_type": "execute_result",
          "data": {
            "text/plain": [
              "DatetimeIndex(['2020-01-22', '2020-01-23', '2020-01-24', '2020-01-25',\n",
              "               '2020-01-26', '2020-01-27', '2020-01-28', '2020-01-29',\n",
              "               '2020-01-30', '2020-01-31',\n",
              "               ...\n",
              "               '2021-12-28', '2021-12-29', '2021-12-30', '2021-12-31',\n",
              "               '2022-01-01', '2022-01-02', '2022-01-03', '2022-01-04',\n",
              "               '2022-01-05', '2022-01-06'],\n",
              "              dtype='datetime64[ns]', length=716, freq=None)"
            ]
          },
          "metadata": {},
          "execution_count": 18
        }
      ]
    },
    {
      "cell_type": "code",
      "source": [
        "provinces = df.PROVINCE_STATE_NAME.unique()\n",
        "provinces"
      ],
      "metadata": {
        "colab": {
          "base_uri": "https://localhost:8080/"
        },
        "id": "ju5htF0sChzv",
        "outputId": "385df764-915b-46e9-a500-cc2bb01f714c"
      },
      "execution_count": null,
      "outputs": [
        {
          "output_type": "execute_result",
          "data": {
            "text/plain": [
              "array(['Alabama', 'New York', 'Wisconsin', 'Alaska', 'Arizona',\n",
              "       'Arkansas', 'California', 'Colorado', 'Florida'], dtype=object)"
            ]
          },
          "metadata": {},
          "execution_count": 19
        }
      ]
    },
    {
      "cell_type": "code",
      "source": [
        "ri = np.random.randint(len(provinces))\n",
        "rp = provinces[ri]\n",
        "rp"
      ],
      "metadata": {
        "id": "wbGgDmOCDImI",
        "colab": {
          "base_uri": "https://localhost:8080/",
          "height": 35
        },
        "outputId": "075aed8c-8bbc-4c87-9aa0-180d98cec598"
      },
      "execution_count": null,
      "outputs": [
        {
          "output_type": "execute_result",
          "data": {
            "application/vnd.google.colaboratory.intrinsic+json": {
              "type": "string"
            },
            "text/plain": [
              "'Colorado'"
            ]
          },
          "metadata": {},
          "execution_count": 20
        }
      ]
    },
    {
      "cell_type": "code",
      "source": [
        "rdf = df.loc[df.PROVINCE_STATE_NAME == rp, :].groupby(\"REPORT_DATE\").sum()\n",
        "rdf"
      ],
      "metadata": {
        "colab": {
          "base_uri": "https://localhost:8080/",
          "height": 450
        },
        "id": "ZnBlU_FTJEgU",
        "outputId": "db2df3b0-c9d2-43ea-fb22-eecc3a35ceda"
      },
      "execution_count": null,
      "outputs": [
        {
          "output_type": "execute_result",
          "data": {
            "text/html": [
              "\n",
              "  <div id=\"df-acc09dc1-0c66-4ca4-8c75-ad535a290fe3\">\n",
              "    <div class=\"colab-df-container\">\n",
              "      <div>\n",
              "<style scoped>\n",
              "    .dataframe tbody tr th:only-of-type {\n",
              "        vertical-align: middle;\n",
              "    }\n",
              "\n",
              "    .dataframe tbody tr th {\n",
              "        vertical-align: top;\n",
              "    }\n",
              "\n",
              "    .dataframe thead th {\n",
              "        text-align: right;\n",
              "    }\n",
              "</style>\n",
              "<table border=\"1\" class=\"dataframe\">\n",
              "  <thead>\n",
              "    <tr style=\"text-align: right;\">\n",
              "      <th></th>\n",
              "      <th>PEOPLE_POSITIVE_CASES_COUNT</th>\n",
              "      <th>PEOPLE_DEATH_NEW_COUNT</th>\n",
              "      <th>COUNTY_FIPS_NUMBER</th>\n",
              "      <th>PEOPLE_POSITIVE_NEW_CASES_COUNT</th>\n",
              "      <th>PEOPLE_DEATH_COUNT</th>\n",
              "    </tr>\n",
              "    <tr>\n",
              "      <th>REPORT_DATE</th>\n",
              "      <th></th>\n",
              "      <th></th>\n",
              "      <th></th>\n",
              "      <th></th>\n",
              "      <th></th>\n",
              "    </tr>\n",
              "  </thead>\n",
              "  <tbody>\n",
              "    <tr>\n",
              "      <th>2020-01-22</th>\n",
              "      <td>0</td>\n",
              "      <td>0</td>\n",
              "      <td>32160</td>\n",
              "      <td>0.0</td>\n",
              "      <td>0.0</td>\n",
              "    </tr>\n",
              "    <tr>\n",
              "      <th>2020-01-23</th>\n",
              "      <td>0</td>\n",
              "      <td>0</td>\n",
              "      <td>32160</td>\n",
              "      <td>0.0</td>\n",
              "      <td>0.0</td>\n",
              "    </tr>\n",
              "    <tr>\n",
              "      <th>2020-01-24</th>\n",
              "      <td>0</td>\n",
              "      <td>0</td>\n",
              "      <td>32160</td>\n",
              "      <td>0.0</td>\n",
              "      <td>0.0</td>\n",
              "    </tr>\n",
              "    <tr>\n",
              "      <th>2020-01-25</th>\n",
              "      <td>0</td>\n",
              "      <td>0</td>\n",
              "      <td>32160</td>\n",
              "      <td>0.0</td>\n",
              "      <td>0.0</td>\n",
              "    </tr>\n",
              "    <tr>\n",
              "      <th>2020-01-26</th>\n",
              "      <td>0</td>\n",
              "      <td>0</td>\n",
              "      <td>32160</td>\n",
              "      <td>0.0</td>\n",
              "      <td>0.0</td>\n",
              "    </tr>\n",
              "    <tr>\n",
              "      <th>...</th>\n",
              "      <td>...</td>\n",
              "      <td>...</td>\n",
              "      <td>...</td>\n",
              "      <td>...</td>\n",
              "      <td>...</td>\n",
              "    </tr>\n",
              "    <tr>\n",
              "      <th>2022-01-02</th>\n",
              "      <td>108034</td>\n",
              "      <td>2</td>\n",
              "      <td>24139</td>\n",
              "      <td>879.0</td>\n",
              "      <td>1193.0</td>\n",
              "    </tr>\n",
              "    <tr>\n",
              "      <th>2022-01-03</th>\n",
              "      <td>110157</td>\n",
              "      <td>0</td>\n",
              "      <td>24139</td>\n",
              "      <td>2123.0</td>\n",
              "      <td>1193.0</td>\n",
              "    </tr>\n",
              "    <tr>\n",
              "      <th>2022-01-04</th>\n",
              "      <td>111346</td>\n",
              "      <td>1</td>\n",
              "      <td>24139</td>\n",
              "      <td>1189.0</td>\n",
              "      <td>1194.0</td>\n",
              "    </tr>\n",
              "    <tr>\n",
              "      <th>2022-01-05</th>\n",
              "      <td>112134</td>\n",
              "      <td>5</td>\n",
              "      <td>24139</td>\n",
              "      <td>788.0</td>\n",
              "      <td>1199.0</td>\n",
              "    </tr>\n",
              "    <tr>\n",
              "      <th>2022-01-06</th>\n",
              "      <td>112215</td>\n",
              "      <td>0</td>\n",
              "      <td>24139</td>\n",
              "      <td>81.0</td>\n",
              "      <td>1199.0</td>\n",
              "    </tr>\n",
              "  </tbody>\n",
              "</table>\n",
              "<p>716 rows × 5 columns</p>\n",
              "</div>\n",
              "      <button class=\"colab-df-convert\" onclick=\"convertToInteractive('df-acc09dc1-0c66-4ca4-8c75-ad535a290fe3')\"\n",
              "              title=\"Convert this dataframe to an interactive table.\"\n",
              "              style=\"display:none;\">\n",
              "        \n",
              "  <svg xmlns=\"http://www.w3.org/2000/svg\" height=\"24px\"viewBox=\"0 0 24 24\"\n",
              "       width=\"24px\">\n",
              "    <path d=\"M0 0h24v24H0V0z\" fill=\"none\"/>\n",
              "    <path d=\"M18.56 5.44l.94 2.06.94-2.06 2.06-.94-2.06-.94-.94-2.06-.94 2.06-2.06.94zm-11 1L8.5 8.5l.94-2.06 2.06-.94-2.06-.94L8.5 2.5l-.94 2.06-2.06.94zm10 10l.94 2.06.94-2.06 2.06-.94-2.06-.94-.94-2.06-.94 2.06-2.06.94z\"/><path d=\"M17.41 7.96l-1.37-1.37c-.4-.4-.92-.59-1.43-.59-.52 0-1.04.2-1.43.59L10.3 9.45l-7.72 7.72c-.78.78-.78 2.05 0 2.83L4 21.41c.39.39.9.59 1.41.59.51 0 1.02-.2 1.41-.59l7.78-7.78 2.81-2.81c.8-.78.8-2.07 0-2.86zM5.41 20L4 18.59l7.72-7.72 1.47 1.35L5.41 20z\"/>\n",
              "  </svg>\n",
              "      </button>\n",
              "      \n",
              "  <style>\n",
              "    .colab-df-container {\n",
              "      display:flex;\n",
              "      flex-wrap:wrap;\n",
              "      gap: 12px;\n",
              "    }\n",
              "\n",
              "    .colab-df-convert {\n",
              "      background-color: #E8F0FE;\n",
              "      border: none;\n",
              "      border-radius: 50%;\n",
              "      cursor: pointer;\n",
              "      display: none;\n",
              "      fill: #1967D2;\n",
              "      height: 32px;\n",
              "      padding: 0 0 0 0;\n",
              "      width: 32px;\n",
              "    }\n",
              "\n",
              "    .colab-df-convert:hover {\n",
              "      background-color: #E2EBFA;\n",
              "      box-shadow: 0px 1px 2px rgba(60, 64, 67, 0.3), 0px 1px 3px 1px rgba(60, 64, 67, 0.15);\n",
              "      fill: #174EA6;\n",
              "    }\n",
              "\n",
              "    [theme=dark] .colab-df-convert {\n",
              "      background-color: #3B4455;\n",
              "      fill: #D2E3FC;\n",
              "    }\n",
              "\n",
              "    [theme=dark] .colab-df-convert:hover {\n",
              "      background-color: #434B5C;\n",
              "      box-shadow: 0px 1px 3px 1px rgba(0, 0, 0, 0.15);\n",
              "      filter: drop-shadow(0px 1px 2px rgba(0, 0, 0, 0.3));\n",
              "      fill: #FFFFFF;\n",
              "    }\n",
              "  </style>\n",
              "\n",
              "      <script>\n",
              "        const buttonEl =\n",
              "          document.querySelector('#df-acc09dc1-0c66-4ca4-8c75-ad535a290fe3 button.colab-df-convert');\n",
              "        buttonEl.style.display =\n",
              "          google.colab.kernel.accessAllowed ? 'block' : 'none';\n",
              "\n",
              "        async function convertToInteractive(key) {\n",
              "          const element = document.querySelector('#df-acc09dc1-0c66-4ca4-8c75-ad535a290fe3');\n",
              "          const dataTable =\n",
              "            await google.colab.kernel.invokeFunction('convertToInteractive',\n",
              "                                                     [key], {});\n",
              "          if (!dataTable) return;\n",
              "\n",
              "          const docLinkHtml = 'Like what you see? Visit the ' +\n",
              "            '<a target=\"_blank\" href=https://colab.research.google.com/notebooks/data_table.ipynb>data table notebook</a>'\n",
              "            + ' to learn more about interactive tables.';\n",
              "          element.innerHTML = '';\n",
              "          dataTable['output_type'] = 'display_data';\n",
              "          await google.colab.output.renderOutput(dataTable, element);\n",
              "          const docLink = document.createElement('div');\n",
              "          docLink.innerHTML = docLinkHtml;\n",
              "          element.appendChild(docLink);\n",
              "        }\n",
              "      </script>\n",
              "    </div>\n",
              "  </div>\n",
              "  "
            ],
            "text/plain": [
              "             PEOPLE_POSITIVE_CASES_COUNT  ...  PEOPLE_DEATH_COUNT\n",
              "REPORT_DATE                               ...                    \n",
              "2020-01-22                             0  ...                 0.0\n",
              "2020-01-23                             0  ...                 0.0\n",
              "2020-01-24                             0  ...                 0.0\n",
              "2020-01-25                             0  ...                 0.0\n",
              "2020-01-26                             0  ...                 0.0\n",
              "...                                  ...  ...                 ...\n",
              "2022-01-02                        108034  ...              1193.0\n",
              "2022-01-03                        110157  ...              1193.0\n",
              "2022-01-04                        111346  ...              1194.0\n",
              "2022-01-05                        112134  ...              1199.0\n",
              "2022-01-06                        112215  ...              1199.0\n",
              "\n",
              "[716 rows x 5 columns]"
            ]
          },
          "metadata": {},
          "execution_count": 21
        }
      ]
    },
    {
      "cell_type": "code",
      "source": [
        "\n",
        "rdf.PEOPLE_POSITIVE_CASES_COUNT.plot()\n",
        "plt.savefig('people_positive_cases.png')"
      ],
      "metadata": {
        "colab": {
          "base_uri": "https://localhost:8080/",
          "height": 292
        },
        "id": "j77uFsFqJL9L",
        "outputId": "2384e967-4e54-46c7-e609-3d215be551ca"
      },
      "execution_count": null,
      "outputs": [
        {
          "output_type": "display_data",
          "data": {
            "image/png": "[encoded data removed]",
            "text/plain": [
              "<Figure size 432x288 with 1 Axes>"
            ]
          },
          "metadata": {
            "needs_background": "light"
          }
        }
      ]
    },
    {
      "cell_type": "code",
      "source": [
        "rdf.PEOPLE_DEATH_COUNT.plot()\n",
        "plt.savefig('people_death_cases.png')"
      ],
      "metadata": {
        "colab": {
          "base_uri": "https://localhost:8080/",
          "height": 292
        },
        "id": "3VxRWN9OJZFK",
        "outputId": "c3aaf6d9-7a48-4cfe-df99-d4ea93aeb140"
      },
      "execution_count": null,
      "outputs": [
        {
          "output_type": "display_data",
          "data": {
            "image/png": "[encoded data removed]",
            "text/plain": [
              "<Figure size 432x288 with 1 Axes>"
            ]
          },
          "metadata": {
            "needs_background": "light"
          }
        }
      ]
    },
    {
      "cell_type": "code",
      "source": [
        "for p in provinces:\n",
        "  _df = df.loc[df.PROVINCE_STATE_NAME == p, :].groupby(\"REPORT_DATE\").sum()\n",
        "  \n",
        "  _df.PEOPLE_POSITIVE_CASES_COUNT.plot(label=p)\n",
        "plt.legend()\n",
        "plt.savefig('report.png')"
      ],
      "metadata": {
        "id": "xqJrHKhxOarX",
        "colab": {
          "base_uri": "https://localhost:8080/",
          "height": 292
        },
        "outputId": "83225da0-a9e8-4f86-87a6-01afed63b3de"
      },
      "execution_count": null,
      "outputs": [
        {
          "output_type": "display_data",
          "data": {
            "image/png": "[encoded data removed]",
            "text/plain": [
              "<Figure size 432x288 with 1 Axes>"
            ]
          },
          "metadata": {
            "needs_background": "light"
          }
        }
      ]
    },
    {
      "cell_type": "code",
      "source": [
        ""
      ],
      "metadata": {
        "id": "R4sMh9EfKtvp"
      },
      "execution_count": null,
      "outputs": []
    }
  ]
}